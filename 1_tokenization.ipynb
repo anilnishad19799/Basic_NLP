{
 "cells": [
  {
   "cell_type": "code",
   "execution_count": 1,
   "metadata": {},
   "outputs": [
    {
     "name": "stdout",
     "output_type": "stream",
     "text": [
      "['Anil is one of the  finest boy in group.', 'We are together.']\n"
     ]
    }
   ],
   "source": [
    "import nltk\n",
    "# nltk.download()\n",
    "# nltk.download('punkt')\n",
    "\n",
    "sent = 'Anil is one of the  finest boy in group. We are together.'\n",
    "\n",
    "sentences = nltk.sent_tokenize(sent)\n",
    "\n",
    "print(sentences)"
   ]
  },
  {
   "cell_type": "code",
   "execution_count": 2,
   "metadata": {},
   "outputs": [
    {
     "name": "stdout",
     "output_type": "stream",
     "text": [
      "['Anil', 'is', 'one', 'of', 'the', 'finest', 'boy', 'in', 'group', '.', 'We', 'are', 'together', '.']\n"
     ]
    }
   ],
   "source": [
    "word_sent = nltk.word_tokenize(sent)\n",
    "print(word_sent)"
   ]
  }
 ],
 "metadata": {
  "interpreter": {
   "hash": "dec40ed5908f26de9931987522238f77ac7076b59217e52f573a86e5b29d1cee"
  },
  "kernelspec": {
   "display_name": "Python 3.8.0 64-bit",
   "language": "python",
   "name": "python3"
  },
  "language_info": {
   "codemirror_mode": {
    "name": "ipython",
    "version": 3
   },
   "file_extension": ".py",
   "mimetype": "text/x-python",
   "name": "python",
   "nbconvert_exporter": "python",
   "pygments_lexer": "ipython3",
   "version": "3.8.0"
  },
  "orig_nbformat": 4
 },
 "nbformat": 4,
 "nbformat_minor": 2
}
