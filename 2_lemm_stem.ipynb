{
 "cells": [
  {
   "cell_type": "code",
   "execution_count": 17,
   "metadata": {},
   "outputs": [],
   "source": [
    "import nltk\n",
    "from nltk.corpus import stopwords\n",
    "from nltk.stem import PorterStemmer\n",
    "from nltk.stem import WordNetLemmatizer"
   ]
  },
  {
   "cell_type": "code",
   "execution_count": 19,
   "metadata": {},
   "outputs": [
    {
     "name": "stdout",
     "output_type": "stream",
     "text": [
      "['anil', 'good', 'person', '.', 'histori', 'easi']\n"
     ]
    }
   ],
   "source": [
    "# Here Stemming is performed\n",
    "\n",
    "text = 'Anil is good person. History is easy'\n",
    "\n",
    "stemmer = PorterStemmer()\n",
    "\n",
    "words = nltk.word_tokenize(text)\n",
    "stem_words = [stemmer.stem(word) for word in words if word not in set(stopwords.words('english'))]\n",
    "print(stem_words)"
   ]
  },
  {
   "cell_type": "code",
   "execution_count": 20,
   "metadata": {},
   "outputs": [
    {
     "name": "stdout",
     "output_type": "stream",
     "text": [
      "['Anil', 'good', 'person', '.', 'History', 'easy']\n"
     ]
    }
   ],
   "source": [
    "# Here Lemmatizer is performed\n",
    "\n",
    "text = 'Anil is good person. History is easy'\n",
    "\n",
    "lemmatizer = WordNetLemmatizer()\n",
    "\n",
    "lem_word = [lemmatizer.lemmatize(word) for word in words if word not in set(stopwords.words('english'))]\n",
    "print(lem_word)"
   ]
  }
 ],
 "metadata": {
  "interpreter": {
   "hash": "dec40ed5908f26de9931987522238f77ac7076b59217e52f573a86e5b29d1cee"
  },
  "kernelspec": {
   "display_name": "Python 3.8.0 64-bit",
   "language": "python",
   "name": "python3"
  },
  "language_info": {
   "codemirror_mode": {
    "name": "ipython",
    "version": 3
   },
   "file_extension": ".py",
   "mimetype": "text/x-python",
   "name": "python",
   "nbconvert_exporter": "python",
   "pygments_lexer": "ipython3",
   "version": "3.8.0"
  },
  "orig_nbformat": 4
 },
 "nbformat": 4,
 "nbformat_minor": 2
}
