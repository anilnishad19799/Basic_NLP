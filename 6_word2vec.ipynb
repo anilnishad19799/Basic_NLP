{
 "cells": [
  {
   "cell_type": "code",
   "execution_count": 6,
   "metadata": {},
   "outputs": [],
   "source": [
    "import re\n",
    "import nltk\n",
    "from gensim.models import Word2Vec\n",
    "from nltk.corpus import stopwords"
   ]
  },
  {
   "cell_type": "code",
   "execution_count": 20,
   "metadata": {},
   "outputs": [],
   "source": [
    "text = 'I am ready to work in India'"
   ]
  },
  {
   "cell_type": "code",
   "execution_count": 21,
   "metadata": {},
   "outputs": [],
   "source": [
    "text = re.sub(r'\\s+',' ',text)\n",
    "text = text.lower()\n",
    "text = re.sub(r'\\d+',' ',text)\n",
    "text = re.sub(r'\\s+',' ',text)\n"
   ]
  },
  {
   "cell_type": "code",
   "execution_count": 22,
   "metadata": {},
   "outputs": [],
   "source": [
    "sent = [word for word in text if word not in stopwords.words('english')]    "
   ]
  },
  {
   "cell_type": "code",
   "execution_count": 23,
   "metadata": {},
   "outputs": [],
   "source": [
    "model = Word2Vec(sent, min_count=1)"
   ]
  },
  {
   "cell_type": "code",
   "execution_count": 10,
   "metadata": {},
   "outputs": [],
   "source": [
    "words = model.wv.vocab"
   ]
  },
  {
   "cell_type": "code",
   "execution_count": 18,
   "metadata": {},
   "outputs": [],
   "source": [
    "# print(words)\n",
    "# vector = model.wv['work']"
   ]
  },
  {
   "cell_type": "code",
   "execution_count": 25,
   "metadata": {},
   "outputs": [
    {
     "ename": "KeyError",
     "evalue": "\"Key 'to' not present\"",
     "output_type": "error",
     "traceback": [
      "\u001b[1;31m---------------------------------------------------------------------------\u001b[0m",
      "\u001b[1;31mKeyError\u001b[0m                                  Traceback (most recent call last)",
      "\u001b[1;32mg:\\NLP\\6_word2vec.ipynb Cell 8'\u001b[0m in \u001b[0;36m<cell line: 1>\u001b[1;34m()\u001b[0m\n\u001b[1;32m----> <a href='vscode-notebook-cell:/g%3A/NLP/6_word2vec.ipynb#ch0000009?line=0'>1</a>\u001b[0m similar  \u001b[39m=\u001b[39m model\u001b[39m.\u001b[39;49mwv\u001b[39m.\u001b[39;49mmost_similar(\u001b[39m'\u001b[39;49m\u001b[39mto\u001b[39;49m\u001b[39m'\u001b[39;49m)\n",
      "File \u001b[1;32m~\\AppData\\Local\\Programs\\Python\\Python38\\lib\\site-packages\\gensim\\models\\keyedvectors.py:773\u001b[0m, in \u001b[0;36mKeyedVectors.most_similar\u001b[1;34m(self, positive, negative, topn, clip_start, clip_end, restrict_vocab, indexer)\u001b[0m\n\u001b[0;32m    <a href='file:///c%3A/Users/X3/AppData/Local/Programs/Python/Python38/lib/site-packages/gensim/models/keyedvectors.py?line=770'>771</a>\u001b[0m     mean\u001b[39m.\u001b[39mappend(weight \u001b[39m*\u001b[39m key)\n\u001b[0;32m    <a href='file:///c%3A/Users/X3/AppData/Local/Programs/Python/Python38/lib/site-packages/gensim/models/keyedvectors.py?line=771'>772</a>\u001b[0m \u001b[39melse\u001b[39;00m:\n\u001b[1;32m--> <a href='file:///c%3A/Users/X3/AppData/Local/Programs/Python/Python38/lib/site-packages/gensim/models/keyedvectors.py?line=772'>773</a>\u001b[0m     mean\u001b[39m.\u001b[39mappend(weight \u001b[39m*\u001b[39m \u001b[39mself\u001b[39;49m\u001b[39m.\u001b[39;49mget_vector(key, norm\u001b[39m=\u001b[39;49m\u001b[39mTrue\u001b[39;49;00m))\n\u001b[0;32m    <a href='file:///c%3A/Users/X3/AppData/Local/Programs/Python/Python38/lib/site-packages/gensim/models/keyedvectors.py?line=773'>774</a>\u001b[0m     \u001b[39mif\u001b[39;00m \u001b[39mself\u001b[39m\u001b[39m.\u001b[39mhas_index_for(key):\n\u001b[0;32m    <a href='file:///c%3A/Users/X3/AppData/Local/Programs/Python/Python38/lib/site-packages/gensim/models/keyedvectors.py?line=774'>775</a>\u001b[0m         all_keys\u001b[39m.\u001b[39madd(\u001b[39mself\u001b[39m\u001b[39m.\u001b[39mget_index(key))\n",
      "File \u001b[1;32m~\\AppData\\Local\\Programs\\Python\\Python38\\lib\\site-packages\\gensim\\models\\keyedvectors.py:438\u001b[0m, in \u001b[0;36mKeyedVectors.get_vector\u001b[1;34m(self, key, norm)\u001b[0m\n\u001b[0;32m    <a href='file:///c%3A/Users/X3/AppData/Local/Programs/Python/Python38/lib/site-packages/gensim/models/keyedvectors.py?line=413'>414</a>\u001b[0m \u001b[39mdef\u001b[39;00m \u001b[39mget_vector\u001b[39m(\u001b[39mself\u001b[39m, key, norm\u001b[39m=\u001b[39m\u001b[39mFalse\u001b[39;00m):\n\u001b[0;32m    <a href='file:///c%3A/Users/X3/AppData/Local/Programs/Python/Python38/lib/site-packages/gensim/models/keyedvectors.py?line=414'>415</a>\u001b[0m     \u001b[39m\"\"\"Get the key's vector, as a 1D numpy array.\u001b[39;00m\n\u001b[0;32m    <a href='file:///c%3A/Users/X3/AppData/Local/Programs/Python/Python38/lib/site-packages/gensim/models/keyedvectors.py?line=415'>416</a>\u001b[0m \n\u001b[0;32m    <a href='file:///c%3A/Users/X3/AppData/Local/Programs/Python/Python38/lib/site-packages/gensim/models/keyedvectors.py?line=416'>417</a>\u001b[0m \u001b[39m    Parameters\u001b[39;00m\n\u001b[1;32m   (...)\u001b[0m\n\u001b[0;32m    <a href='file:///c%3A/Users/X3/AppData/Local/Programs/Python/Python38/lib/site-packages/gensim/models/keyedvectors.py?line=435'>436</a>\u001b[0m \n\u001b[0;32m    <a href='file:///c%3A/Users/X3/AppData/Local/Programs/Python/Python38/lib/site-packages/gensim/models/keyedvectors.py?line=436'>437</a>\u001b[0m \u001b[39m    \"\"\"\u001b[39;00m\n\u001b[1;32m--> <a href='file:///c%3A/Users/X3/AppData/Local/Programs/Python/Python38/lib/site-packages/gensim/models/keyedvectors.py?line=437'>438</a>\u001b[0m     index \u001b[39m=\u001b[39m \u001b[39mself\u001b[39;49m\u001b[39m.\u001b[39;49mget_index(key)\n\u001b[0;32m    <a href='file:///c%3A/Users/X3/AppData/Local/Programs/Python/Python38/lib/site-packages/gensim/models/keyedvectors.py?line=438'>439</a>\u001b[0m     \u001b[39mif\u001b[39;00m norm:\n\u001b[0;32m    <a href='file:///c%3A/Users/X3/AppData/Local/Programs/Python/Python38/lib/site-packages/gensim/models/keyedvectors.py?line=439'>440</a>\u001b[0m         \u001b[39mself\u001b[39m\u001b[39m.\u001b[39mfill_norms()\n",
      "File \u001b[1;32m~\\AppData\\Local\\Programs\\Python\\Python38\\lib\\site-packages\\gensim\\models\\keyedvectors.py:412\u001b[0m, in \u001b[0;36mKeyedVectors.get_index\u001b[1;34m(self, key, default)\u001b[0m\n\u001b[0;32m    <a href='file:///c%3A/Users/X3/AppData/Local/Programs/Python/Python38/lib/site-packages/gensim/models/keyedvectors.py?line=409'>410</a>\u001b[0m     \u001b[39mreturn\u001b[39;00m default\n\u001b[0;32m    <a href='file:///c%3A/Users/X3/AppData/Local/Programs/Python/Python38/lib/site-packages/gensim/models/keyedvectors.py?line=410'>411</a>\u001b[0m \u001b[39melse\u001b[39;00m:\n\u001b[1;32m--> <a href='file:///c%3A/Users/X3/AppData/Local/Programs/Python/Python38/lib/site-packages/gensim/models/keyedvectors.py?line=411'>412</a>\u001b[0m     \u001b[39mraise\u001b[39;00m \u001b[39mKeyError\u001b[39;00m(\u001b[39mf\u001b[39m\u001b[39m\"\u001b[39m\u001b[39mKey \u001b[39m\u001b[39m'\u001b[39m\u001b[39m{\u001b[39;00mkey\u001b[39m}\u001b[39;00m\u001b[39m'\u001b[39m\u001b[39m not present\u001b[39m\u001b[39m\"\u001b[39m)\n",
      "\u001b[1;31mKeyError\u001b[0m: \"Key 'to' not present\""
     ]
    }
   ],
   "source": [
    "similar  = model.wv.most_similar('to')"
   ]
  },
  {
   "cell_type": "code",
   "execution_count": null,
   "metadata": {},
   "outputs": [],
   "source": []
  }
 ],
 "metadata": {
  "interpreter": {
   "hash": "dec40ed5908f26de9931987522238f77ac7076b59217e52f573a86e5b29d1cee"
  },
  "kernelspec": {
   "display_name": "Python 3.8.0 64-bit",
   "language": "python",
   "name": "python3"
  },
  "language_info": {
   "codemirror_mode": {
    "name": "ipython",
    "version": 3
   },
   "file_extension": ".py",
   "mimetype": "text/x-python",
   "name": "python",
   "nbconvert_exporter": "python",
   "pygments_lexer": "ipython3",
   "version": "3.8.0"
  },
  "orig_nbformat": 4
 },
 "nbformat": 4,
 "nbformat_minor": 2
}
